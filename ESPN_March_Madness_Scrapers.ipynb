{
 "cells": [
  {
   "cell_type": "markdown",
   "id": "fc1f0d8a-7641-4229-8313-948ac5cc5829",
   "metadata": {},
   "source": [
    "# ESPN March Madness Scrapers"
   ]
  },
  {
   "cell_type": "markdown",
   "id": "d834caed-4b2e-4f0f-b495-0f713d3f4915",
   "metadata": {},
   "source": [
    "## Initialization"
   ]
  },
  {
   "cell_type": "code",
   "execution_count": 1,
   "id": "4c0cb197-439a-479d-bd4b-37fb823e4b62",
   "metadata": {},
   "outputs": [],
   "source": [
    "from selenium import webdriver\n",
    "from selenium.webdriver.common.by import By\n",
    "import time\n",
    "import requests\n",
    "from bs4 import BeautifulSoup\n",
    "import re\n",
    "import pandas as pd"
   ]
  },
  {
   "cell_type": "markdown",
   "id": "889e9f7b-0cf7-492e-bc4f-16d506632347",
   "metadata": {},
   "source": [
    "## Scraper 1"
   ]
  },
  {
   "cell_type": "markdown",
   "id": "8080935f-d6c7-4c1b-af89-5c75d8bdf282",
   "metadata": {},
   "source": [
    "Scraper collects all the 364 teams involved in the NAACP as well as links that will be modified and scraped in the second scraper. Scrapes one page and one table."
   ]
  },
  {
   "cell_type": "code",
   "execution_count": 2,
   "id": "f068a562-1476-4056-afdd-14d702b6beea",
   "metadata": {},
   "outputs": [
    {
     "name": "stderr",
     "output_type": "stream",
     "text": [
      "Cache folder (/Users/ericmacdougall/.cache/selenium) cannot be created: Not a directory (os error 20)\n",
      "Cache folder (/Users/ericmacdougall/.cache/selenium) cannot be created: Not a directory (os error 20)\n",
      "Cache folder (/Users/ericmacdougall/.cache/selenium) cannot be created: Not a directory (os error 20)\n"
     ]
    },
    {
     "name": "stdout",
     "output_type": "stream",
     "text": [
      "Error processing row: Message: no such element: Unable to locate element: {\"method\":\"tag name\",\"selector\":\"a\"}\n",
      "  (Session info: chrome=134.0.6998.44); For documentation on this error, please visit: https://www.selenium.dev/documentation/webdriver/troubleshooting/errors#no-such-element-exception\n",
      "Stacktrace:\n",
      "0   chromedriver                        0x0000000100ccbb78 cxxbridge1$str$ptr + 2778912\n",
      "1   chromedriver                        0x0000000100cc41b0 cxxbridge1$str$ptr + 2747736\n",
      "2   chromedriver                        0x0000000100819e24 cxxbridge1$string$len + 92932\n",
      "3   chromedriver                        0x0000000100861158 cxxbridge1$string$len + 384568\n",
      "4   chromedriver                        0x0000000100856800 cxxbridge1$string$len + 341216\n",
      "5   chromedriver                        0x00000001008a2500 cxxbridge1$string$len + 651744\n",
      "6   chromedriver                        0x00000001008552e4 cxxbridge1$string$len + 335812\n",
      "7   chromedriver                        0x0000000100c91d04 cxxbridge1$str$ptr + 2541740\n",
      "8   chromedriver                        0x0000000100c94fc8 cxxbridge1$str$ptr + 2554736\n",
      "9   chromedriver                        0x0000000100c72a44 cxxbridge1$str$ptr + 2414060\n",
      "10  chromedriver                        0x0000000100c95828 cxxbridge1$str$ptr + 2556880\n",
      "11  chromedriver                        0x0000000100c63998 cxxbridge1$str$ptr + 2352448\n",
      "12  chromedriver                        0x0000000100cb43a4 cxxbridge1$str$ptr + 2682700\n",
      "13  chromedriver                        0x0000000100cb452c cxxbridge1$str$ptr + 2683092\n",
      "14  chromedriver                        0x0000000100cc3e24 cxxbridge1$str$ptr + 2746828\n",
      "15  libsystem_pthread.dylib             0x0000000193c902e4 _pthread_start + 136\n",
      "16  libsystem_pthread.dylib             0x0000000193c8b0fc thread_start + 8\n",
      "\n",
      "                                       Team_name  \\\n",
      "0                          Duke Blue Devils\\nACC   \n",
      "1                        Houston Cougars\\nBig 12   \n",
      "2                             Auburn Tigers\\nSEC   \n",
      "3                            Florida Gators\\nSEC   \n",
      "4                      Alabama Crimson Tide\\nSEC   \n",
      "..                                           ...   \n",
      "359                  The Citadel Bulldogs\\nSoCon   \n",
      "360           Maryland Eastern Shore Hawks\\nMEAC   \n",
      "361       Arkansas-Pine Bluff Golden Lions\\nSWAC   \n",
      "362                    Coppin State Eagles\\nMEAC   \n",
      "363  Mississippi Valley State Delta Devils\\nSWAC   \n",
      "\n",
      "                                                   URL  \n",
      "0    https://www.espn.com/mens-college-basketball/t...  \n",
      "1    https://www.espn.com/mens-college-basketball/t...  \n",
      "2    https://www.espn.com/mens-college-basketball/t...  \n",
      "3    https://www.espn.com/mens-college-basketball/t...  \n",
      "4    https://www.espn.com/mens-college-basketball/t...  \n",
      "..                                                 ...  \n",
      "359  https://www.espn.com/mens-college-basketball/t...  \n",
      "360  https://www.espn.com/mens-college-basketball/t...  \n",
      "361  https://www.espn.com/mens-college-basketball/t...  \n",
      "362  https://www.espn.com/mens-college-basketball/t...  \n",
      "363  https://www.espn.com/mens-college-basketball/t...  \n",
      "\n",
      "[364 rows x 2 columns]\n"
     ]
    }
   ],
   "source": [
    "# Set up the WebDriver\n",
    "driver = webdriver.Chrome()\n",
    "\n",
    "# URL for ESPN \n",
    "url = 'https://www.espn.com/mens-college-basketball/bpi'\n",
    "\n",
    "\n",
    "# Open Fox News and searches for query\n",
    "driver.get(url)\n",
    "\n",
    "# Allow the page to load\n",
    "time.sleep(3)\n",
    "\n",
    "# Optionally, click to load more content (e.g., click the button 12 times)\n",
    "for _ in range(100):\n",
    "    try:\n",
    "        load_button = driver.find_element(By.LINK_TEXT, \"Show More\")\n",
    "        load_button.click()\n",
    "        time.sleep(2)  # Wait for content to load\n",
    "    except:\n",
    "        # In case the \"load-more\" button is not found or clickable, pass\n",
    "        pass\n",
    "\n",
    "# Find the articles\n",
    "table = driver.find_elements(By.CLASS_NAME, \"Table__TBODY\")\n",
    "\n",
    "# Initialize lists to store headlines and URLs\n",
    "team_name = []\n",
    "urls = []\n",
    "\n",
    "# Loop through each article and extract the headline and URL\n",
    "for row in table:\n",
    "    try:\n",
    "        # Find individual cells or elements within the row, depending on the structure of the table\n",
    "        cells = row.find_elements(By.TAG_NAME, \"tr\")  # Get each row in the table\n",
    "        \n",
    "        for cell in cells:\n",
    "            # Extract the text from the cell (or row) and URL (if available)\n",
    "            name = cell.text\n",
    "            if name != 'just in':\n",
    "                team_name.append(name)\n",
    "                \n",
    "                # Attempt to extract the URL if available\n",
    "                link = cell.find_element(By.TAG_NAME, \"a\").get_attribute(\"href\")\n",
    "                urls.append(link)\n",
    "    except Exception as e:\n",
    "        print(f\"Error processing row: {e}\")\n",
    "\n",
    "# Create a DataFrame with the headlines and URLs\n",
    "df = pd.DataFrame({\n",
    "    'Team_name': team_name[:-1],\n",
    "    'URL': urls\n",
    "})\n",
    "\n",
    "# Print the resulting DataFrame\n",
    "print(df)\n",
    "\n",
    "# Close the browser\n",
    "driver.quit()\n"
   ]
  },
  {
   "cell_type": "code",
   "execution_count": 3,
   "id": "fd4b7d7e-193c-4920-ace8-75770ca54867",
   "metadata": {},
   "outputs": [
    {
     "data": {
      "text/plain": [
       "364"
      ]
     },
     "execution_count": 3,
     "metadata": {},
     "output_type": "execute_result"
    }
   ],
   "source": [
    "len(urls)"
   ]
  },
  {
   "cell_type": "code",
   "execution_count": 4,
   "id": "a57702dc-0e92-4794-b813-2cf7d5345899",
   "metadata": {},
   "outputs": [
    {
     "data": {
      "text/plain": [
       "365"
      ]
     },
     "execution_count": 4,
     "metadata": {},
     "output_type": "execute_result"
    }
   ],
   "source": [
    "len(team_name)"
   ]
  },
  {
   "cell_type": "code",
   "execution_count": 5,
   "id": "b120482e-7a09-4c8e-958b-79b316058089",
   "metadata": {},
   "outputs": [
    {
     "data": {
      "text/plain": [
       "\"df = pd.DataFrame({\\n    'Team_name': team_name[:-1],\\n    'URL': urls\\n})\""
      ]
     },
     "execution_count": 5,
     "metadata": {},
     "output_type": "execute_result"
    }
   ],
   "source": [
    "'''df = pd.DataFrame({\n",
    "    'Team_name': team_name[:-1],\n",
    "    'URL': urls\n",
    "})'''\n"
   ]
  },
  {
   "cell_type": "markdown",
   "id": "cac0e04a-7113-4fa9-a49e-ed4cdbf39500",
   "metadata": {},
   "source": [
    "I clean up the dataframe."
   ]
  },
  {
   "cell_type": "code",
   "execution_count": 6,
   "id": "a3788dc4-9189-402d-8090-52b22d33a7d4",
   "metadata": {},
   "outputs": [],
   "source": [
    "df['Conference'] = df['Team_name'].str.partition(sep='\\n')[2]\n",
    "df['Team_name'] = df['Team_name'].str.partition(sep='\\n')[0]"
   ]
  },
  {
   "cell_type": "code",
   "execution_count": 7,
   "id": "d86e82d9-b788-40ac-b718-5d3259e6bc69",
   "metadata": {
    "scrolled": true
   },
   "outputs": [
    {
     "data": {
      "text/html": [
       "<div>\n",
       "<style scoped>\n",
       "    .dataframe tbody tr th:only-of-type {\n",
       "        vertical-align: middle;\n",
       "    }\n",
       "\n",
       "    .dataframe tbody tr th {\n",
       "        vertical-align: top;\n",
       "    }\n",
       "\n",
       "    .dataframe thead th {\n",
       "        text-align: right;\n",
       "    }\n",
       "</style>\n",
       "<table border=\"1\" class=\"dataframe\">\n",
       "  <thead>\n",
       "    <tr style=\"text-align: right;\">\n",
       "      <th></th>\n",
       "      <th>Team_name</th>\n",
       "      <th>URL</th>\n",
       "      <th>Conference</th>\n",
       "    </tr>\n",
       "  </thead>\n",
       "  <tbody>\n",
       "    <tr>\n",
       "      <th>0</th>\n",
       "      <td>Abilene Christian Wildcats</td>\n",
       "      <td>https://www.espn.com/mens-college-basketball/t...</td>\n",
       "      <td>WAC</td>\n",
       "    </tr>\n",
       "    <tr>\n",
       "      <th>1</th>\n",
       "      <td>Air Force Falcons</td>\n",
       "      <td>https://www.espn.com/mens-college-basketball/t...</td>\n",
       "      <td>Mountain West</td>\n",
       "    </tr>\n",
       "    <tr>\n",
       "      <th>2</th>\n",
       "      <td>Akron Zips</td>\n",
       "      <td>https://www.espn.com/mens-college-basketball/t...</td>\n",
       "      <td>MAC</td>\n",
       "    </tr>\n",
       "    <tr>\n",
       "      <th>3</th>\n",
       "      <td>Alabama A&amp;M Bulldogs</td>\n",
       "      <td>https://www.espn.com/mens-college-basketball/t...</td>\n",
       "      <td>SWAC</td>\n",
       "    </tr>\n",
       "    <tr>\n",
       "      <th>4</th>\n",
       "      <td>Alabama Crimson Tide</td>\n",
       "      <td>https://www.espn.com/mens-college-basketball/t...</td>\n",
       "      <td>SEC</td>\n",
       "    </tr>\n",
       "    <tr>\n",
       "      <th>5</th>\n",
       "      <td>Alabama State Hornets</td>\n",
       "      <td>https://www.espn.com/mens-college-basketball/t...</td>\n",
       "      <td>SWAC</td>\n",
       "    </tr>\n",
       "    <tr>\n",
       "      <th>6</th>\n",
       "      <td>Alcorn State Braves</td>\n",
       "      <td>https://www.espn.com/mens-college-basketball/t...</td>\n",
       "      <td>SWAC</td>\n",
       "    </tr>\n",
       "    <tr>\n",
       "      <th>7</th>\n",
       "      <td>American University Eagles</td>\n",
       "      <td>https://www.espn.com/mens-college-basketball/t...</td>\n",
       "      <td>Patriot</td>\n",
       "    </tr>\n",
       "    <tr>\n",
       "      <th>8</th>\n",
       "      <td>App State Mountaineers</td>\n",
       "      <td>https://www.espn.com/mens-college-basketball/t...</td>\n",
       "      <td>Sun Belt</td>\n",
       "    </tr>\n",
       "    <tr>\n",
       "      <th>9</th>\n",
       "      <td>Arizona State Sun Devils</td>\n",
       "      <td>https://www.espn.com/mens-college-basketball/t...</td>\n",
       "      <td>Big 12</td>\n",
       "    </tr>\n",
       "    <tr>\n",
       "      <th>10</th>\n",
       "      <td>Arizona Wildcats</td>\n",
       "      <td>https://www.espn.com/mens-college-basketball/t...</td>\n",
       "      <td>Big 12</td>\n",
       "    </tr>\n",
       "    <tr>\n",
       "      <th>11</th>\n",
       "      <td>Arkansas Razorbacks</td>\n",
       "      <td>https://www.espn.com/mens-college-basketball/t...</td>\n",
       "      <td>SEC</td>\n",
       "    </tr>\n",
       "    <tr>\n",
       "      <th>12</th>\n",
       "      <td>Arkansas State Red Wolves</td>\n",
       "      <td>https://www.espn.com/mens-college-basketball/t...</td>\n",
       "      <td>Sun Belt</td>\n",
       "    </tr>\n",
       "    <tr>\n",
       "      <th>13</th>\n",
       "      <td>Arkansas-Pine Bluff Golden Lions</td>\n",
       "      <td>https://www.espn.com/mens-college-basketball/t...</td>\n",
       "      <td>SWAC</td>\n",
       "    </tr>\n",
       "    <tr>\n",
       "      <th>14</th>\n",
       "      <td>Army Black Knights</td>\n",
       "      <td>https://www.espn.com/mens-college-basketball/t...</td>\n",
       "      <td>Patriot</td>\n",
       "    </tr>\n",
       "    <tr>\n",
       "      <th>15</th>\n",
       "      <td>Auburn Tigers</td>\n",
       "      <td>https://www.espn.com/mens-college-basketball/t...</td>\n",
       "      <td>SEC</td>\n",
       "    </tr>\n",
       "    <tr>\n",
       "      <th>16</th>\n",
       "      <td>Austin Peay Governors</td>\n",
       "      <td>https://www.espn.com/mens-college-basketball/t...</td>\n",
       "      <td>ASUN</td>\n",
       "    </tr>\n",
       "    <tr>\n",
       "      <th>17</th>\n",
       "      <td>BYU Cougars</td>\n",
       "      <td>https://www.espn.com/mens-college-basketball/t...</td>\n",
       "      <td>Big 12</td>\n",
       "    </tr>\n",
       "    <tr>\n",
       "      <th>18</th>\n",
       "      <td>Ball State Cardinals</td>\n",
       "      <td>https://www.espn.com/mens-college-basketball/t...</td>\n",
       "      <td>MAC</td>\n",
       "    </tr>\n",
       "    <tr>\n",
       "      <th>19</th>\n",
       "      <td>Baylor Bears</td>\n",
       "      <td>https://www.espn.com/mens-college-basketball/t...</td>\n",
       "      <td>Big 12</td>\n",
       "    </tr>\n",
       "  </tbody>\n",
       "</table>\n",
       "</div>"
      ],
      "text/plain": [
       "                           Team_name  \\\n",
       "0         Abilene Christian Wildcats   \n",
       "1                  Air Force Falcons   \n",
       "2                         Akron Zips   \n",
       "3               Alabama A&M Bulldogs   \n",
       "4               Alabama Crimson Tide   \n",
       "5              Alabama State Hornets   \n",
       "6                Alcorn State Braves   \n",
       "7         American University Eagles   \n",
       "8             App State Mountaineers   \n",
       "9           Arizona State Sun Devils   \n",
       "10                  Arizona Wildcats   \n",
       "11               Arkansas Razorbacks   \n",
       "12         Arkansas State Red Wolves   \n",
       "13  Arkansas-Pine Bluff Golden Lions   \n",
       "14                Army Black Knights   \n",
       "15                     Auburn Tigers   \n",
       "16             Austin Peay Governors   \n",
       "17                       BYU Cougars   \n",
       "18              Ball State Cardinals   \n",
       "19                      Baylor Bears   \n",
       "\n",
       "                                                  URL     Conference  \n",
       "0   https://www.espn.com/mens-college-basketball/t...            WAC  \n",
       "1   https://www.espn.com/mens-college-basketball/t...  Mountain West  \n",
       "2   https://www.espn.com/mens-college-basketball/t...            MAC  \n",
       "3   https://www.espn.com/mens-college-basketball/t...           SWAC  \n",
       "4   https://www.espn.com/mens-college-basketball/t...            SEC  \n",
       "5   https://www.espn.com/mens-college-basketball/t...           SWAC  \n",
       "6   https://www.espn.com/mens-college-basketball/t...           SWAC  \n",
       "7   https://www.espn.com/mens-college-basketball/t...        Patriot  \n",
       "8   https://www.espn.com/mens-college-basketball/t...       Sun Belt  \n",
       "9   https://www.espn.com/mens-college-basketball/t...         Big 12  \n",
       "10  https://www.espn.com/mens-college-basketball/t...         Big 12  \n",
       "11  https://www.espn.com/mens-college-basketball/t...            SEC  \n",
       "12  https://www.espn.com/mens-college-basketball/t...       Sun Belt  \n",
       "13  https://www.espn.com/mens-college-basketball/t...           SWAC  \n",
       "14  https://www.espn.com/mens-college-basketball/t...        Patriot  \n",
       "15  https://www.espn.com/mens-college-basketball/t...            SEC  \n",
       "16  https://www.espn.com/mens-college-basketball/t...           ASUN  \n",
       "17  https://www.espn.com/mens-college-basketball/t...         Big 12  \n",
       "18  https://www.espn.com/mens-college-basketball/t...            MAC  \n",
       "19  https://www.espn.com/mens-college-basketball/t...         Big 12  "
      ]
     },
     "execution_count": 7,
     "metadata": {},
     "output_type": "execute_result"
    }
   ],
   "source": [
    "df = df.sort_values(by='Team_name', ascending=True).reset_index(drop=True)\n",
    "df.head(20)"
   ]
  },
  {
   "cell_type": "markdown",
   "id": "f2fa0180-7dad-48fe-aa2c-62cce72747cf",
   "metadata": {},
   "source": [
    "https://www.espn.com/mens-college-basketball/team/_/id/248/houston-cougars"
   ]
  },
  {
   "cell_type": "markdown",
   "id": "6800a7bb-2910-4866-9fc9-7c2b3896c3a9",
   "metadata": {},
   "source": [
    "https://www.espn.com/mens-college-basketball/team/schedule/_/id/248"
   ]
  },
  {
   "cell_type": "code",
   "execution_count": 10,
   "id": "a6ab8d6b-b92a-4e92-92e1-883565da0de4",
   "metadata": {},
   "outputs": [],
   "source": [
    "# df['Schedule_link'] = df['URL'].str.replace('/_/', '/schedule' + '/_/').str.replace(r'/id/\\d+/', '/schedule' + '')\n",
    "df['Schedule_link'] =  df['URL'].apply(lambda url: re.sub(r'(https://www\\.espn\\.com/mens-college-basketball/team)/_(/id/\\d+)', r'\\1/schedule/_\\2/season/2024', url))"
   ]
  },
  {
   "cell_type": "markdown",
   "id": "8033c116-f55b-4d51-93db-9c0419f2acc9",
   "metadata": {},
   "source": [
    "I modify the links to creaet a series of links for each team's schedule. Additional parameters were added above for the season."
   ]
  },
  {
   "cell_type": "code",
   "execution_count": 12,
   "id": "4f32cdad-5e45-44be-9ee3-0faddf616512",
   "metadata": {},
   "outputs": [
    {
     "name": "stdout",
     "output_type": "stream",
     "text": [
      "https://www.espn.com/mens-college-basketball/team/schedule/_/id/301/season/2024/san-diego-toreros\n"
     ]
    }
   ],
   "source": [
    "%matplotlib inline\n",
    "import random\n",
    "\n",
    "print(df['Schedule_link'][random.randint(0, len(df))])"
   ]
  },
  {
   "cell_type": "markdown",
   "id": "5b602887-577a-460f-8298-ab21364a5247",
   "metadata": {},
   "source": [
    "The above cell tests that the data transformation was successful."
   ]
  },
  {
   "cell_type": "markdown",
   "id": "913ba652-ccba-4a48-a0ee-2cbe86e62d14",
   "metadata": {},
   "source": [
    "We must use Selenium because ESPN blocks the requests library."
   ]
  },
  {
   "cell_type": "code",
   "execution_count": 14,
   "id": "866fa512-9f3a-48c8-8180-e5bdce68e791",
   "metadata": {},
   "outputs": [
    {
     "data": {
      "text/plain": [
       "0    https://www.espn.com/mens-college-basketball/team/schedule/_/id/2000/season/2024/abilene-christian-wildcats\n",
       "1             https://www.espn.com/mens-college-basketball/team/schedule/_/id/2005/season/2024/air-force-falcons\n",
       "2                    https://www.espn.com/mens-college-basketball/team/schedule/_/id/2006/season/2024/akron-zips\n",
       "3           https://www.espn.com/mens-college-basketball/team/schedule/_/id/2010/season/2024/alabama-am-bulldogs\n",
       "4           https://www.espn.com/mens-college-basketball/team/schedule/_/id/333/season/2024/alabama-crimson-tide\n",
       "Name: Schedule_link, dtype: object"
      ]
     },
     "execution_count": 14,
     "metadata": {},
     "output_type": "execute_result"
    }
   ],
   "source": [
    "pd.set_option('display.max_colwidth', 180)\n",
    "df['Schedule_link'].head()"
   ]
  },
  {
   "cell_type": "markdown",
   "id": "cbfc4295-c1e6-4b95-9926-0ebe72f1540d",
   "metadata": {},
   "source": [
    "## Scraper 2"
   ]
  },
  {
   "cell_type": "markdown",
   "id": "af5e60d7-43c2-425a-8367-5bc9665e19be",
   "metadata": {},
   "source": [
    "For reasons unknown, a large number of teams escaped our scraper on first screening. We will scrape them again and concatenate our dataframe until all 364 teams are collected as well as the information pertinent to their schedules."
   ]
  },
  {
   "cell_type": "code",
   "execution_count": 15,
   "id": "d79e8bcd-5b38-4057-9fa1-0d215961e3f8",
   "metadata": {},
   "outputs": [
    {
     "name": "stderr",
     "output_type": "stream",
     "text": [
      "Cache folder (/Users/ericmacdougall/.cache/selenium) cannot be created: Not a directory (os error 20)\n",
      "Cache folder (/Users/ericmacdougall/.cache/selenium) cannot be created: Not a directory (os error 20)\n",
      "Cache folder (/Users/ericmacdougall/.cache/selenium) cannot be created: Not a directory (os error 20)\n"
     ]
    },
    {
     "name": "stdout",
     "output_type": "stream",
     "text": [
      "Error processing Mercyhurst Lakers: name 'np' is not defined\n",
      "Error processing West Georgia Wolves: name 'np' is not defined\n",
      "Hey, listen\n",
      "                                                                                                               HREF  \\\n",
      "0       https://www.espn.com/mens-college-basketball/team/schedule/_/id/2000/season/2024/abilene-christian-wildcats   \n",
      "1       https://www.espn.com/mens-college-basketball/team/schedule/_/id/2000/season/2024/abilene-christian-wildcats   \n",
      "2       https://www.espn.com/mens-college-basketball/team/schedule/_/id/2000/season/2024/abilene-christian-wildcats   \n",
      "3       https://www.espn.com/mens-college-basketball/team/schedule/_/id/2000/season/2024/abilene-christian-wildcats   \n",
      "4       https://www.espn.com/mens-college-basketball/team/schedule/_/id/2000/season/2024/abilene-christian-wildcats   \n",
      "...                                                                                                             ...   \n",
      "631622                https://www.espn.com/mens-college-basketball/team/schedule/_/id/2561/season/2024/siena-saints   \n",
      "631623                https://www.espn.com/mens-college-basketball/team/schedule/_/id/2561/season/2024/siena-saints   \n",
      "631624                https://www.espn.com/mens-college-basketball/team/schedule/_/id/2561/season/2024/siena-saints   \n",
      "631625                https://www.espn.com/mens-college-basketball/team/schedule/_/id/2561/season/2024/siena-saints   \n",
      "631626                https://www.espn.com/mens-college-basketball/team/schedule/_/id/2561/season/2024/siena-saints   \n",
      "\n",
      "       team (W or L references this team)  \\\n",
      "0              Abilene Christian Wildcats   \n",
      "1              Abilene Christian Wildcats   \n",
      "2              Abilene Christian Wildcats   \n",
      "3              Abilene Christian Wildcats   \n",
      "4              Abilene Christian Wildcats   \n",
      "...                                   ...   \n",
      "631622                       Siena Saints   \n",
      "631623                       Siena Saints   \n",
      "631624                       Siena Saints   \n",
      "631625                       Siena Saints   \n",
      "631626                       Siena Saints   \n",
      "\n",
      "                                                      date        opponent  \\\n",
      "0                                                      CIT              vs   \n",
      "1       W73-63 16-17 (10-10) DeGruy 16 Bettiol 10 Steele 4     Wed, Mar 20   \n",
      "2                                           Tarleton State  Regular Season   \n",
      "3                                               Mon, Nov 6  Oklahoma State   \n",
      "4                                              Fri, Nov 10        NC State   \n",
      "...                                                    ...             ...   \n",
      "631622                                          Fri, Mar 1       Manhattan   \n",
      "631623                                          Sun, Mar 3      Quinnipiac   \n",
      "631624                                          Thu, Mar 7         Niagara   \n",
      "631625                                          Sat, Mar 9            Iona   \n",
      "631626                                         Tue, Mar 12       Niagara *   \n",
      "\n",
      "       outcome  score  \n",
      "0            T   exas  \n",
      "1            @         \n",
      "2            D    ATE  \n",
      "3            W  64-59  \n",
      "4            L  84-64  \n",
      "...        ...    ...  \n",
      "631622       L  70-68  \n",
      "631623       L  71-57  \n",
      "631624       L  66-59  \n",
      "631625       L  68-54  \n",
      "631626       L  67-65  \n",
      "\n",
      "[631627 rows x 6 columns]\n",
      "CPU times: user 6.89 s, sys: 8.99 s, total: 15.9 s\n",
      "Wall time: 52min 53s\n"
     ]
    }
   ],
   "source": [
    "%%time\n",
    "\n",
    "driver = webdriver.Chrome()\n",
    "data = []  # Initialize an empty list to store game data\n",
    "k = 0\n",
    "\n",
    "# Initialize df_2025 as an empty DataFrame with appropriate columns\n",
    "df_2024 = pd.DataFrame(columns=['HREF', 'team (W or L references this team)', 'date', 'opponent', 'outcome', 'score'])\n",
    "\n",
    "# Loop until all team names are in df_2025\n",
    "while len(df_2024['team (W or L references this team)'].unique()) < len(df['Team_name'].unique()):\n",
    "    # Find teams that are not yet in df_2025\n",
    "    remaining_teams = df[~df['Team_name'].isin(df_2024['team (W or L references this team)'].unique())]\n",
    "    \n",
    "    # Ensure the loop only proceeds if there are remaining teams to process\n",
    "    #if remaining_teams.empty:\n",
    "     #   break\n",
    "    \n",
    "    for i, row in remaining_teams.iterrows():\n",
    "        try:\n",
    "            team_schedule_link = row['Schedule_link']  # Get the Schedule link directly from the row\n",
    "        \n",
    "            driver.get(team_schedule_link)\n",
    "\n",
    "            # Allow the page to load (Using WebDriverWait would be more efficient here)\n",
    "            time.sleep(1)\n",
    "\n",
    "            # Find the table containing the schedule\n",
    "            table = driver.find_elements(By.CLASS_NAME, \"Table__TBODY\")\n",
    "\n",
    "            if not table:\n",
    "                game_data['HREF'] = team_schedule_link\n",
    "                game_data['team (W or L references this team)'] = row['Team_name']\n",
    "                game_data['date'] = 'No Data Available'\n",
    "                game_data['opponent'] = np.null\n",
    "                game_data['outcome'] = np.null\n",
    "                game_data['score'] = np.null\n",
    "\n",
    "                data.append(game_data)\n",
    "                continue  # Skip if the table is not found\n",
    "\n",
    "            lines = table[0].text.partition('\\n')[2].split('\\n')\n",
    "\n",
    "            # Iterate over the lines and extract information\n",
    "            for j in range(1, len(lines), 4):  # Process every 4th line since the structure repeats every 4 lines\n",
    "                game_data = {}\n",
    "\n",
    "                try:\n",
    "                    date = lines[j].strip()\n",
    "                    opponent = lines[j+2].strip()\n",
    "                    outcome = lines[j+3].partition(' ')[0][0]  # 'W' or 'L'\n",
    "                    score = lines[j+3].partition(' ')[0][1:]\n",
    "\n",
    "                    if date == 'DATE OPPONENT TIME TV TICKETS':\n",
    "                        break  # Break if we reach the end of the data section\n",
    "\n",
    "                    # Collect the game data\n",
    "                    game_data['HREF'] = team_schedule_link\n",
    "                    game_data['team (W or L references this team)'] = row['Team_name']\n",
    "                    game_data['date'] = date\n",
    "                    game_data['opponent'] = opponent\n",
    "                    game_data['outcome'] = outcome\n",
    "                    game_data['score'] = score\n",
    "\n",
    "                    data.append(game_data)\n",
    "                except IndexError:\n",
    "                    pass  # Skip in case of an index error (to avoid crashing)\n",
    "\n",
    "        except Exception as e:\n",
    "            print(f\"Error processing {row['Team_name']}: {e}\")\n",
    "\n",
    "    # Once all teams in the loop are processed, concatenate the collected data into df_2025\n",
    "    df_2024 = pd.concat([df_2024, pd.DataFrame(data)], ignore_index=True)\n",
    "    if k == 0:\n",
    "        # df_2025.to_csv(path_or_buf='2025_NBA_full_schedule.csv')\n",
    "        print('Hey, listen') # Print statement confirms the script is working\n",
    "        k += 1\n",
    "\n",
    "# Print the resulting DataFrame\n",
    "print(df_2024)\n",
    "\n",
    "# Close the browser\n",
    "driver.quit()\n"
   ]
  },
  {
   "cell_type": "code",
   "execution_count": 39,
   "id": "bb83f1a8-1a40-4104-89c4-335bcf30ce97",
   "metadata": {},
   "outputs": [],
   "source": [
    "df_2024 = df_2024.drop_duplicates()"
   ]
  },
  {
   "cell_type": "code",
   "execution_count": 41,
   "id": "18ed4b78-e058-48b7-93c9-ca360790f4ab",
   "metadata": {},
   "outputs": [
    {
     "name": "stdout",
     "output_type": "stream",
     "text": [
      "<class 'pandas.core.frame.DataFrame'>\n",
      "Index: 12046 entries, 0 to 631626\n",
      "Data columns (total 6 columns):\n",
      " #   Column                              Non-Null Count  Dtype \n",
      "---  ------                              --------------  ----- \n",
      " 0   HREF                                12046 non-null  object\n",
      " 1   team (W or L references this team)  12046 non-null  object\n",
      " 2   date                                12046 non-null  object\n",
      " 3   opponent                            12046 non-null  object\n",
      " 4   outcome                             12046 non-null  object\n",
      " 5   score                               12046 non-null  object\n",
      "dtypes: object(6)\n",
      "memory usage: 658.8+ KB\n"
     ]
    }
   ],
   "source": [
    "df_2024['outcome'] = df_2024['outcome'].replace({'W': 1, 'L': 0})\n",
    "df_2024.info()\n"
   ]
  },
  {
   "cell_type": "code",
   "execution_count": 43,
   "id": "fe6f8fe2-fb9c-4646-b1fd-36c8be246fd6",
   "metadata": {},
   "outputs": [],
   "source": [
    "df_2024 = df_2024.reset_index(drop=True)"
   ]
  },
  {
   "cell_type": "code",
   "execution_count": 45,
   "id": "99430653-553c-4dc4-8d95-f31445f31498",
   "metadata": {},
   "outputs": [],
   "source": [
    "df_2024.to_csv(path_or_buf='2024_NBA_full_schedule.csv')"
   ]
  },
  {
   "cell_type": "markdown",
   "id": "23c2ebbc-7872-4b9b-a0fa-b1b9401070eb",
   "metadata": {},
   "source": [
    "Dataframe is saved as a csv in a local file."
   ]
  }
 ],
 "metadata": {
  "kernelspec": {
   "display_name": "Python 3 (ipykernel)",
   "language": "python",
   "name": "python3"
  },
  "language_info": {
   "codemirror_mode": {
    "name": "ipython",
    "version": 3
   },
   "file_extension": ".py",
   "mimetype": "text/x-python",
   "name": "python",
   "nbconvert_exporter": "python",
   "pygments_lexer": "ipython3",
   "version": "3.12.7"
  }
 },
 "nbformat": 4,
 "nbformat_minor": 5
}
